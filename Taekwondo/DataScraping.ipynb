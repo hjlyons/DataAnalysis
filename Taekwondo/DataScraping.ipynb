{
 "cells": [
  {
   "cell_type": "code",
   "execution_count": 1,
   "metadata": {},
   "outputs": [],
   "source": [
    "from src.selenium_parsing import *\n",
    "from src.parsed_saver import save_parsed_results\n",
    "from src.time_delay import custom_delay"
   ]
  },
  {
   "cell_type": "markdown",
   "metadata": {},
   "source": [
    "Setup webdriver and parse all match URLs from the main olympics page. For debugging optionally trim this list to length 3."
   ]
  },
  {
   "cell_type": "code",
   "execution_count": 2,
   "metadata": {},
   "outputs": [
    {
     "name": "stdout",
     "output_type": "stream",
     "text": [
      "Number of parsed matches: 155\n"
     ]
    }
   ],
   "source": [
    "driver = setup_webdriver(headless=True)\n",
    "full_urls = parse_match_urls(driver)\n",
    "print(\"Number of parsed matches: {}\".format(len(full_urls)))"
   ]
  },
  {
   "cell_type": "markdown",
   "metadata": {},
   "source": [
    "Loop over all match URLs and parse the results"
   ]
  },
  {
   "cell_type": "code",
   "execution_count": 4,
   "metadata": {},
   "outputs": [
    {
     "name": "stdout",
     "output_type": "stream",
     "text": [
      "Parsing URL: 1\n",
      "https://olympics.com/tokyo-2020/olympic-games/en/results/taekwondo/../../../en/results/taekwondo/contest-result-women-49kg-r32-000100-.htm\n",
      "Saving results in: data/raw_parsed/women-49kg-r32-000100-\n",
      "Parsing URL: 2\n",
      "https://olympics.com/tokyo-2020/olympic-games/en/results/taekwondo/../../../en/results/taekwondo/contest-result-women-49kg-8fnl-000100-.htm\n",
      "Saving results in: data/raw_parsed/women-49kg-8fnl-000100-\n"
     ]
    }
   ],
   "source": [
    "def process_url(url)\n",
    "    url_tag = url.split(\"/contest-result-\")[-1].split(\".htm\")[0]\n",
    "    results_dict, actions_list = parse_match_page(driver, url)\n",
    "    save_parsed_results(url_tag, results_dict, actions_list)\n",
    "    custom_delay()\n",
    "\n",
    "for i, url in enumerate(full_urls):\n",
    "    print(f\"Parsing URL: {i+1}\\n{url}\")\n",
    "    \n",
    "    try:\n",
    "        process_url(url)\n",
    "    except:\n",
    "        print(\"Fail\")"
   ]
  }
 ],
 "metadata": {
  "kernelspec": {
   "display_name": "Python 3",
   "language": "python",
   "name": "python3"
  },
  "language_info": {
   "codemirror_mode": {
    "name": "ipython",
    "version": 3
   },
   "file_extension": ".py",
   "mimetype": "text/x-python",
   "name": "python",
   "nbconvert_exporter": "python",
   "pygments_lexer": "ipython3",
   "version": "3.8.5"
  }
 },
 "nbformat": 4,
 "nbformat_minor": 4
}
