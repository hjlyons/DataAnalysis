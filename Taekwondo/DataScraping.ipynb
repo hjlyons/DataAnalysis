{
 "cells": [
  {
   "cell_type": "code",
   "execution_count": 1,
   "metadata": {},
   "outputs": [],
   "source": [
    "from src.selenium_parsing import *"
   ]
  },
  {
   "cell_type": "markdown",
   "metadata": {},
   "source": [
    "Setup webdriver and parse all match URLs from the main olympics page. For debugging optionally trim this list to length 3."
   ]
  },
  {
   "cell_type": "code",
   "execution_count": 2,
   "metadata": {},
   "outputs": [
    {
     "name": "stdout",
     "output_type": "stream",
     "text": [
      "Number of parsed matches: 155\n"
     ]
    }
   ],
   "source": [
    "driver = setup_webdriver(headless=True)\n",
    "full_urls = parse_match_urls(driver)\n",
    "print(\"Number of parsed matches: {}\".format(len(full_urls)))"
   ]
  },
  {
   "cell_type": "code",
   "execution_count": 3,
   "metadata": {},
   "outputs": [],
   "source": [
    "full_urls = full_urls[:3]"
   ]
  },
  {
   "cell_type": "markdown",
   "metadata": {},
   "source": [
    "Loop over all match URLs and parse the results"
   ]
  },
  {
   "cell_type": "code",
   "execution_count": 4,
   "metadata": {},
   "outputs": [
    {
     "name": "stdout",
     "output_type": "stream",
     "text": [
      "Parsing URL: 1\n",
      "https://olympics.com/tokyo-2020/olympic-games/en/results/taekwondo/../../../en/results/taekwondo/contest-result-women-49kg-r32-000100-.htm\n",
      "{'contestant1_fullname': 'SEMBERG Abishag', 'contestant1_noc': 'ISR', 'contestant1_win_string': 'Win by Point Gap', 'contestant1_score_total': '22', 'contestant1_score_round1': '4', 'contestant1_score_round2': '11', 'contestant1_score_round3': '7', 'contestant2_fullname': 'STAMBAUGH Victoria', 'contestant2_noc': 'PUR', 'contestant2_win_string': '', 'contestant2_score_total': '2', 'contestant2_score_round1': '2', 'contestant2_score_round2': '0', 'contestant2_score_round3': '0'}\n",
      "\n",
      "Parsing URL: 2\n",
      "https://olympics.com/tokyo-2020/olympic-games/en/results/taekwondo/../../../en/results/taekwondo/contest-result-women-49kg-8fnl-000100-.htm\n",
      "{'contestant1_fullname': 'SU Po-Ya', 'contestant1_noc': 'TPE', 'contestant1_win_string': '', 'contestant1_score_total': '9', 'contestant1_score_round1': '5', 'contestant1_score_round2': '2', 'contestant1_score_round3': '2', 'contestant2_fullname': 'YAMADA Miyu', 'contestant2_noc': 'JPN', 'contestant2_win_string': 'Win by Final Score', 'contestant2_score_total': '10', 'contestant2_score_round1': '3', 'contestant2_score_round2': '0', 'contestant2_score_round3': '7'}\n",
      "\n",
      "Parsing URL: 3\n",
      "https://olympics.com/tokyo-2020/olympic-games/en/results/taekwondo/../../../en/results/taekwondo/contest-result-men-58kg-8fnl-000100-.htm\n",
      "{'contestant1_fullname': 'DEMSE Solomon', 'contestant1_noc': 'ETH', 'contestant1_win_string': 'Win by Point Gap', 'contestant1_score_total': '22', 'contestant1_score_round1': '17', 'contestant1_score_round2': '5', 'contestant1_score_round3': '', 'contestant2_fullname': 'SUZUKI Sergio', 'contestant2_noc': 'JPN', 'contestant2_win_string': '', 'contestant2_score_total': '2', 'contestant2_score_round1': '0', 'contestant2_score_round2': '2', 'contestant2_score_round3': ''}\n",
      "\n"
     ]
    }
   ],
   "source": [
    "for i, url in enumerate(full_urls):\n",
    "    print(f\"Parsing URL: {i+1}\\n{url}\")\n",
    "    results_dict = parse_match_page(driver, url)\n",
    "    print(f\"{results_dict}\\n\")"
   ]
  }
 ],
 "metadata": {
  "kernelspec": {
   "display_name": "Python 3",
   "language": "python",
   "name": "python3"
  },
  "language_info": {
   "codemirror_mode": {
    "name": "ipython",
    "version": 3
   },
   "file_extension": ".py",
   "mimetype": "text/x-python",
   "name": "python",
   "nbconvert_exporter": "python",
   "pygments_lexer": "ipython3",
   "version": "3.8.5"
  }
 },
 "nbformat": 4,
 "nbformat_minor": 4
}
